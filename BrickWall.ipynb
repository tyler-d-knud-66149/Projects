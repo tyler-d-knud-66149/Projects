{
  "nbformat": 4,
  "nbformat_minor": 0,
  "metadata": {
    "colab": {
      "name": "BrickWall.ipynb",
      "provenance": [],
      "authorship_tag": "ABX9TyO4HUlQl5wTIbWqPB2+l6R2",
      "include_colab_link": true
    },
    "kernelspec": {
      "name": "python3",
      "display_name": "Python 3"
    },
    "language_info": {
      "name": "python"
    }
  },
  "cells": [
    {
      "cell_type": "markdown",
      "metadata": {
        "id": "view-in-github",
        "colab_type": "text"
      },
      "source": [
        "<a href=\"https://colab.research.google.com/github/tyler-d-knud-66149/Projects/blob/main/BrickWall.ipynb\" target=\"_parent\"><img src=\"https://colab.research.google.com/assets/colab-badge.svg\" alt=\"Open In Colab\"/></a>"
      ]
    },
    {
      "cell_type": "code",
      "execution_count": null,
      "metadata": {
        "id": "otlow0L0kqc_"
      },
      "outputs": [],
      "source": [
        "\n",
        "'''\n",
        "Constraints: Bricks are all 1 unit tall and come in unit sizes of 3 and 2 \n",
        "Rows can not have equivalent sum at any point when adding up adjacent bricks IE, row 1 has 2, 2, 3, 3 and row 2 has 2,2,2,2,2 therefore there is a running crack because both \n",
        "iteratively sum to 10 at some point\n",
        "Rows must sum to w\n",
        "There must be h rows\n",
        "\n",
        "Possible Solution (SLOW): gen all possible layers given w constraint, compare rows to build a legal wall\n",
        "Betterish Solution: Gen All Possible Rows Given W Constraint, Compute Edge Positions, Compare Edge Positions to Build a Legal Wall\n",
        "Methods necessary: Create rows, compare rows for conflicts, driver function that takes in width and height, generate edge positions,dynamic sum of all possible walls\n",
        "Problems: Long walls take a very long time to generate all possible combinations\n",
        "\n",
        "'''\n",
        "class Wall:\n",
        "  def __init__(self,width,height):\n",
        "    self.w = width\n",
        "    self.h = height\n",
        "    self.calcWall(w,h)\n",
        "  def calcWall(self,w,h): \n",
        "  #Takes w(width) and h(height) and returns the number of legal\n",
        "  #combinations such that the edge of bricks on rows vertically\n",
        "  #adjacent to eachother don't line up\n",
        "    rowList = self.genLegalRows(w)\n",
        "    #Generate List of legal rows\n",
        "    edgePosList = self.genEdgePosList(rowList,w)\n",
        "    #Generate Position of Edges \n",
        "    conflictList = self.generateConflicts(edgePosList) \n",
        "    #Generate legal Combinations rows might have \n",
        "    numLegalRows = len(rowList)\n",
        "    totalLegalWalls = self.sumConflictList(numLegalRows,conflictList,h)\n",
        "    #Use conflict matrix to sum total legal walls \n",
        "    print(\"NUMBER OF TOTAL LEGAL WALLS:\",totalLegalWalls)\n",
        "\n",
        "  def genLegalRows(self,w): \n",
        "  #Takes in a width parameter and generates all legal combinations \n",
        "  #of 3 width and 2 width bricks that would satisfy\n",
        "    legalRows = [] \n",
        "    #Running list of legal rows\n",
        "    legalRows = self.genRow(w)\n",
        "    #generate all legal rows recursively\n",
        "    return legalRows\n",
        "\n",
        "  def genRow(self,w): \n",
        "  #Recursively Generate Rows up to length W \n",
        "  #O(2^n)\n",
        "    if(w==0 or w==1): \n",
        "    #Placing another brick has made the row too long\n",
        "      return []\n",
        "    if(w==2): \n",
        "    #If there is only 2 left, then 2 is the only brick that can be placed\n",
        "      return [[2]]\n",
        "    if(w==3):\n",
        "    #If there is only 3 left, then 3 is the only brick that can be placed\n",
        "      return [[3]] \n",
        "    #Recursively place a two brick and a three brick\n",
        "    return [(row + [2]) for row in self.genRow(w-2)] + [(row + [3]) for row in self.genRow(w-3)]\n",
        "\n",
        "  def genEdgePosList(self,rowList,w): \n",
        "  #Driver Function Generates a list of all edges in a row\n",
        "  #O(Num of Rows)\n",
        "    edgePos = [self.genEdgePos(row,w) for row in rowList]\n",
        "    return edgePos\n",
        "\n",
        "  def genEdgePos(self,row,w): \n",
        "  #Takes a row and generates the position of all of its edges \n",
        "  #O(RowLength)\n",
        "    rowtotal = 0 \n",
        "    #Running total of length in row\n",
        "    rowsums = set() \n",
        "    #Set of iterative sums of row (easily find disjoints with sets)\n",
        "    for brick in row: \n",
        "    #Traverse through row and gather running length total at each edge\n",
        "      rowtotal += brick\n",
        "      rowsums.add(rowtotal)\n",
        "    rowsums.remove(w) \n",
        "    #All rows are the same length so removes rightmost edge to \n",
        "    #ensure isdisjoint works properly \n",
        "    return rowsums\n",
        "\n",
        "  def generateConflicts(self,edgePos): \n",
        "  #Takes in edge positions and calculates compatible rows\n",
        "  #O(n^2)\n",
        "    numberOfLegalRows = len(edgePos) \n",
        "    rowConflicts = [] \n",
        "    #Creates a matrix of row compatibility\n",
        "    for rowNum1 in range(numberOfLegalRows): \n",
        "    #Iterate across every possible legal row in rowList\n",
        "      rowConflicts.append([rowNum2 for rowNum2 in range(numberOfLegalRows) if edgePos[rowNum1].isdisjoint(edgePos[rowNum2])]) \n",
        "      #uses isdisjoint to check if there are any edges that align\n",
        "      #Basic reasoning: If two edge positions line up, then a running crack is created, \n",
        "      #and therefore it is not a valid combination of rows, and therefore is an invalid \n",
        "      #wall. \n",
        "      #This takes every row that is a disjoint with rowNum1 and records it in a matrix\n",
        "    return rowConflicts\n",
        "\n",
        "  def sumConflictList(self,numberOfLists,rowConflicts,h): \n",
        "  #Dynamically builds up all possible walls you can create starting with a legal row\n",
        "  #O((h-1)*numberOfLists^2)\n",
        "    everyRow = numberOfLists*[1] \n",
        "    #Creates a list of 1s the length of the num of legal rows\n",
        "    for i in range(1,h):\n",
        "      everyRow = [sum(everyRow[k] for k in rowConflicts[j]) for j in range(numberOfLists)]\n",
        "      #For every valid row, sum the number of compatible rows. Use this to build up\n",
        "      #the number of legal walls possible starting with each legal row\n",
        "    return sum(everyRow) #Sum all possible walls starting with all possible legal\n",
        "    #rows to get the total number of legal walls "
      ]
    },
    {
      "cell_type": "code",
      "source": [
        ""
      ],
      "metadata": {
        "id": "NFUNV7jlFw3L"
      },
      "execution_count": null,
      "outputs": []
    },
    {
      "cell_type": "code",
      "source": [
        "w = 32\n",
        "h = 10\n",
        "newWall = Wall(w,h)"
      ],
      "metadata": {
        "colab": {
          "base_uri": "https://localhost:8080/"
        },
        "id": "qeF9WbADnhE9",
        "outputId": "3cd88548-e9dd-43ec-9e57-50effef5cbb3"
      },
      "execution_count": null,
      "outputs": [
        {
          "output_type": "stream",
          "name": "stdout",
          "text": [
            "NUMBER OF TOTAL LEGAL WALLS: 806844323190414\n"
          ]
        }
      ]
    }
  ]
}